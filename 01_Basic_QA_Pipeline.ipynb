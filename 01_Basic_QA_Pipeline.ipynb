{
 "cells": [
  {
   "attachments": {},
   "cell_type": "markdown",
   "metadata": {},
   "source": [
    "# Tutorial: Build Your First Question Answering System\n",
    "\n",
    "> This tutorial is based on Haystack 1.x. If you're using Haystack 2.0 and would like to follow the updated version of this tutorial, check out [Creating Your First QA Pipeline with Retrieval-Augmentation](https://haystack.deepset.ai/tutorials/27_first_rag_pipeline) and [Build an Extractive QA Pipeline](https://haystack.deepset.ai/tutorials/34_extractive_qa_pipeline). \n",
    ">\n",
    "> For more information on Haystack 2.0, read the [Haystack 2.0 announcement](https://haystack.deepset.ai/blog/haystack-2-release).\n",
    "\n",
    "- **Level**: Beginner\n",
    "- **Time to complete**: 15 minutes\n",
    "- **Nodes Used**: `InMemoryDocumentStore`, `BM25Retriever`, `FARMReader`\n",
    "- **Goal**: After completing this tutorial, you will have learned about the Reader and Retriever, and built a question answering pipeline that can answer questions about the Game of Thrones series.\n"
   ]
  },
  {
   "attachments": {},
   "cell_type": "markdown",
   "metadata": {
    "collapsed": false
   },
   "source": [
    "## Overview\n",
    "\n",
    "Learn how to build a question answering system using Haystack's DocumentStore, Retriever, and Reader. Your system will use Game of Thrones files and will be able to answer questions like \"Who is the father of Arya Stark?\". But you can use it to run on any other set of documents, such as your company's internal wikis or a collection of financial reports. \n",
    "\n",
    "To help you get started quicker, we simplified certain steps in this tutorial. For example, Document preparation and pipeline initialization are handled by ready-made classes that replace lines of initialization code. But don't worry! This doesn't affect how well the question answering system performs."
   ]
  },
  {
   "attachments": {},
   "cell_type": "markdown",
   "metadata": {},
   "source": [
    "\n",
    "## Preparing the Colab Environment\n",
    "\n",
    "- [Enable GPU Runtime in Colab](https://docs.haystack.deepset.ai/docs/enabling-gpu-acceleration#enabling-the-gpu-in-colab)\n",
    "    - Setup CUDA [Windows]\n",
    "    - Setup CUDA by downloading CUDA toolkit (https://developer.nvidia.com/cuda-downloads?target_os=Windows&target_arch=x86_64&target_version=11&target_type=exe_network)\n",
    "    - Follow the guide, attention to topic 3 (https://docs.nvidia.com/cuda/cuda-installation-guide-microsoft-windows/index.html)\n",
    "- [Set logging level to INFO](https://docs.haystack.deepset.ai/docs/log-level)\n"
   ]
  },
  {
   "cell_type": "code",
   "execution_count": 1,
   "metadata": {},
   "outputs": [
    {
     "name": "stdout",
     "output_type": "stream",
     "text": [
      "Looking in indexes: https://pypi.org/simple, https://pypi.ngc.nvidia.com\n",
      "Requirement already satisfied: pip in c:\\users\\henri\\appdata\\local\\programs\\python\\python312\\lib\\site-packages (24.0)\n",
      "Note: you may need to restart the kernel to use updated packages.\n",
      "Looking in indexes: https://pypi.org/simple, https://pypi.ngc.nvidia.com\n",
      "Requirement already satisfied: setuptools in c:\\users\\henri\\appdata\\local\\programs\\python\\python312\\lib\\site-packages (70.0.0)\n",
      "Requirement already satisfied: pip in c:\\users\\henri\\appdata\\local\\programs\\python\\python312\\lib\\site-packages (24.0)\n",
      "Requirement already satisfied: wheel in c:\\users\\henri\\appdata\\local\\programs\\python\\python312\\lib\\site-packages (0.43.0)\n",
      "Note: you may need to restart the kernel to use updated packages.\n",
      "Looking in indexes: https://pypi.org/simple, https://pypi.ngc.nvidia.com\n",
      "Requirement already satisfied: nvidia-pyindex in c:\\users\\henri\\appdata\\local\\programs\\python\\python312\\lib\\site-packages (1.0.9)\n",
      "Note: you may need to restart the kernel to use updated packages.\n",
      "Looking in indexes: https://pypi.org/simple, https://pypi.ngc.nvidia.com\n",
      "Requirement already satisfied: nvidia-cuda-runtime-cu12 in c:\\users\\henri\\appdata\\local\\programs\\python\\python312\\lib\\site-packages (12.5.39)\n",
      "Note: you may need to restart the kernel to use updated packages.\n"
     ]
    }
   ],
   "source": [
    "%pip install --upgrade pip\n",
    "%pip install --upgrade setuptools pip wheel\n",
    "%pip install nvidia-pyindex\n",
    "%pip install nvidia-cuda-runtime-cu12"
   ]
  },
  {
   "attachments": {},
   "cell_type": "markdown",
   "metadata": {},
   "source": [
    "## Installing Haystack\n",
    "\n",
    "To start, let's install the latest release of Haystack with `pip`:"
   ]
  },
  {
   "cell_type": "code",
   "execution_count": 1,
   "metadata": {},
   "outputs": [
    {
     "name": "stdout",
     "output_type": "stream",
     "text": [
      "Looking in indexes: https://pypi.org/simple, https://pypi.ngc.nvidia.com\n",
      "Requirement already satisfied: farm-haystack in c:\\users\\henri\\appdata\\local\\programs\\python\\python312\\lib\\site-packages (1.25.5)\n",
      "Requirement already satisfied: boilerpy3 in c:\\users\\henri\\appdata\\local\\programs\\python\\python312\\lib\\site-packages (from farm-haystack) (1.0.7)\n",
      "Requirement already satisfied: events in c:\\users\\henri\\appdata\\local\\programs\\python\\python312\\lib\\site-packages (from farm-haystack) (0.5)\n",
      "Requirement already satisfied: httpx in c:\\users\\henri\\appdata\\local\\programs\\python\\python312\\lib\\site-packages (from farm-haystack) (0.27.0)\n",
      "Requirement already satisfied: jsonschema in c:\\users\\henri\\appdata\\local\\programs\\python\\python312\\lib\\site-packages (from farm-haystack) (4.22.0)\n",
      "Requirement already satisfied: lazy-imports==0.3.1 in c:\\users\\henri\\appdata\\local\\programs\\python\\python312\\lib\\site-packages (from farm-haystack) (0.3.1)\n",
      "Requirement already satisfied: more-itertools in c:\\users\\henri\\appdata\\local\\programs\\python\\python312\\lib\\site-packages (from farm-haystack) (10.2.0)\n",
      "Requirement already satisfied: networkx in c:\\users\\henri\\appdata\\local\\programs\\python\\python312\\lib\\site-packages (from farm-haystack) (3.3)\n",
      "Requirement already satisfied: pandas in c:\\users\\henri\\appdata\\local\\programs\\python\\python312\\lib\\site-packages (from farm-haystack) (2.2.2)\n",
      "Requirement already satisfied: pillow in c:\\users\\henri\\appdata\\local\\programs\\python\\python312\\lib\\site-packages (from farm-haystack) (10.3.0)\n",
      "Requirement already satisfied: platformdirs in c:\\users\\henri\\appdata\\local\\programs\\python\\python312\\lib\\site-packages (from farm-haystack) (4.2.2)\n",
      "Requirement already satisfied: posthog in c:\\users\\henri\\appdata\\local\\programs\\python\\python312\\lib\\site-packages (from farm-haystack) (3.5.0)\n",
      "Requirement already satisfied: prompthub-py==4.0.0 in c:\\users\\henri\\appdata\\local\\programs\\python\\python312\\lib\\site-packages (from farm-haystack) (4.0.0)\n",
      "Requirement already satisfied: pydantic<2 in c:\\users\\henri\\appdata\\local\\programs\\python\\python312\\lib\\site-packages (from farm-haystack) (1.10.15)\n",
      "Requirement already satisfied: quantulum3 in c:\\users\\henri\\appdata\\local\\programs\\python\\python312\\lib\\site-packages (from farm-haystack) (0.9.1)\n",
      "Requirement already satisfied: rank-bm25 in c:\\users\\henri\\appdata\\local\\programs\\python\\python312\\lib\\site-packages (from farm-haystack) (0.2.2)\n",
      "Requirement already satisfied: requests in c:\\users\\henri\\appdata\\local\\programs\\python\\python312\\lib\\site-packages (from farm-haystack) (2.32.3)\n",
      "Requirement already satisfied: requests-cache<1.0.0 in c:\\users\\henri\\appdata\\local\\programs\\python\\python312\\lib\\site-packages (from farm-haystack) (0.9.8)\n",
      "Requirement already satisfied: scikit-learn>=1.3.0 in c:\\users\\henri\\appdata\\local\\programs\\python\\python312\\lib\\site-packages (from farm-haystack) (1.5.0)\n",
      "Requirement already satisfied: sseclient-py in c:\\users\\henri\\appdata\\local\\programs\\python\\python312\\lib\\site-packages (from farm-haystack) (1.8.0)\n",
      "Requirement already satisfied: tenacity in c:\\users\\henri\\appdata\\local\\programs\\python\\python312\\lib\\site-packages (from farm-haystack) (8.3.0)\n",
      "Requirement already satisfied: tiktoken>=0.5.1 in c:\\users\\henri\\appdata\\local\\programs\\python\\python312\\lib\\site-packages (from farm-haystack) (0.7.0)\n",
      "Requirement already satisfied: tqdm in c:\\users\\henri\\appdata\\local\\programs\\python\\python312\\lib\\site-packages (from farm-haystack) (4.66.4)\n",
      "Requirement already satisfied: transformers==4.39.3 in c:\\users\\henri\\appdata\\local\\programs\\python\\python312\\lib\\site-packages (from farm-haystack) (4.39.3)\n",
      "Requirement already satisfied: pyyaml<7.0,>=6.0 in c:\\users\\henri\\appdata\\local\\programs\\python\\python312\\lib\\site-packages (from prompthub-py==4.0.0->farm-haystack) (6.0.1)\n",
      "Requirement already satisfied: filelock in c:\\users\\henri\\appdata\\local\\programs\\python\\python312\\lib\\site-packages (from transformers==4.39.3->farm-haystack) (3.14.0)\n",
      "Requirement already satisfied: huggingface-hub<1.0,>=0.19.3 in c:\\users\\henri\\appdata\\local\\programs\\python\\python312\\lib\\site-packages (from transformers==4.39.3->farm-haystack) (0.23.2)\n",
      "Requirement already satisfied: numpy>=1.17 in c:\\users\\henri\\appdata\\local\\programs\\python\\python312\\lib\\site-packages (from transformers==4.39.3->farm-haystack) (1.26.4)\n",
      "Requirement already satisfied: packaging>=20.0 in c:\\users\\henri\\appdata\\local\\programs\\python\\python312\\lib\\site-packages (from transformers==4.39.3->farm-haystack) (24.0)\n",
      "Requirement already satisfied: regex!=2019.12.17 in c:\\users\\henri\\appdata\\local\\programs\\python\\python312\\lib\\site-packages (from transformers==4.39.3->farm-haystack) (2024.5.15)\n",
      "Requirement already satisfied: tokenizers<0.19,>=0.14 in c:\\users\\henri\\appdata\\local\\programs\\python\\python312\\lib\\site-packages (from transformers==4.39.3->farm-haystack) (0.15.2)\n",
      "Requirement already satisfied: safetensors>=0.4.1 in c:\\users\\henri\\appdata\\local\\programs\\python\\python312\\lib\\site-packages (from transformers==4.39.3->farm-haystack) (0.4.3)\n",
      "Requirement already satisfied: typing-extensions>=4.2.0 in c:\\users\\henri\\appdata\\local\\programs\\python\\python312\\lib\\site-packages (from pydantic<2->farm-haystack) (4.12.1)\n",
      "Requirement already satisfied: charset-normalizer<4,>=2 in c:\\users\\henri\\appdata\\local\\programs\\python\\python312\\lib\\site-packages (from requests->farm-haystack) (3.3.2)\n",
      "Requirement already satisfied: idna<4,>=2.5 in c:\\users\\henri\\appdata\\local\\programs\\python\\python312\\lib\\site-packages (from requests->farm-haystack) (3.7)\n",
      "Requirement already satisfied: urllib3<3,>=1.21.1 in c:\\users\\henri\\appdata\\local\\programs\\python\\python312\\lib\\site-packages (from requests->farm-haystack) (2.2.1)\n",
      "Requirement already satisfied: certifi>=2017.4.17 in c:\\users\\henri\\appdata\\local\\programs\\python\\python312\\lib\\site-packages (from requests->farm-haystack) (2024.6.2)\n",
      "Requirement already satisfied: appdirs>=1.4.4 in c:\\users\\henri\\appdata\\local\\programs\\python\\python312\\lib\\site-packages (from requests-cache<1.0.0->farm-haystack) (1.4.4)\n",
      "Requirement already satisfied: attrs>=21.2 in c:\\users\\henri\\appdata\\local\\programs\\python\\python312\\lib\\site-packages (from requests-cache<1.0.0->farm-haystack) (23.2.0)\n",
      "Requirement already satisfied: cattrs>=22.2 in c:\\users\\henri\\appdata\\local\\programs\\python\\python312\\lib\\site-packages (from requests-cache<1.0.0->farm-haystack) (23.2.3)\n",
      "Requirement already satisfied: url-normalize>=1.4 in c:\\users\\henri\\appdata\\local\\programs\\python\\python312\\lib\\site-packages (from requests-cache<1.0.0->farm-haystack) (1.4.3)\n",
      "Requirement already satisfied: scipy>=1.6.0 in c:\\users\\henri\\appdata\\local\\programs\\python\\python312\\lib\\site-packages (from scikit-learn>=1.3.0->farm-haystack) (1.13.1)\n",
      "Requirement already satisfied: joblib>=1.2.0 in c:\\users\\henri\\appdata\\local\\programs\\python\\python312\\lib\\site-packages (from scikit-learn>=1.3.0->farm-haystack) (1.4.2)\n",
      "Requirement already satisfied: threadpoolctl>=3.1.0 in c:\\users\\henri\\appdata\\local\\programs\\python\\python312\\lib\\site-packages (from scikit-learn>=1.3.0->farm-haystack) (3.5.0)\n",
      "Requirement already satisfied: colorama in c:\\users\\henri\\appdata\\local\\programs\\python\\python312\\lib\\site-packages (from tqdm->farm-haystack) (0.4.6)\n",
      "Requirement already satisfied: anyio in c:\\users\\henri\\appdata\\local\\programs\\python\\python312\\lib\\site-packages (from httpx->farm-haystack) (4.4.0)\n",
      "Requirement already satisfied: httpcore==1.* in c:\\users\\henri\\appdata\\local\\programs\\python\\python312\\lib\\site-packages (from httpx->farm-haystack) (1.0.5)\n",
      "Requirement already satisfied: sniffio in c:\\users\\henri\\appdata\\local\\programs\\python\\python312\\lib\\site-packages (from httpx->farm-haystack) (1.3.1)\n",
      "Requirement already satisfied: h11<0.15,>=0.13 in c:\\users\\henri\\appdata\\local\\programs\\python\\python312\\lib\\site-packages (from httpcore==1.*->httpx->farm-haystack) (0.14.0)\n",
      "Requirement already satisfied: jsonschema-specifications>=2023.03.6 in c:\\users\\henri\\appdata\\local\\programs\\python\\python312\\lib\\site-packages (from jsonschema->farm-haystack) (2023.12.1)\n",
      "Requirement already satisfied: referencing>=0.28.4 in c:\\users\\henri\\appdata\\local\\programs\\python\\python312\\lib\\site-packages (from jsonschema->farm-haystack) (0.35.1)\n",
      "Requirement already satisfied: rpds-py>=0.7.1 in c:\\users\\henri\\appdata\\local\\programs\\python\\python312\\lib\\site-packages (from jsonschema->farm-haystack) (0.18.1)\n",
      "Requirement already satisfied: python-dateutil>=2.8.2 in c:\\users\\henri\\appdata\\local\\programs\\python\\python312\\lib\\site-packages (from pandas->farm-haystack) (2.9.0.post0)\n",
      "Requirement already satisfied: pytz>=2020.1 in c:\\users\\henri\\appdata\\local\\programs\\python\\python312\\lib\\site-packages (from pandas->farm-haystack) (2024.1)\n",
      "Requirement already satisfied: tzdata>=2022.7 in c:\\users\\henri\\appdata\\local\\programs\\python\\python312\\lib\\site-packages (from pandas->farm-haystack) (2024.1)\n",
      "Requirement already satisfied: six>=1.5 in c:\\users\\henri\\appdata\\local\\programs\\python\\python312\\lib\\site-packages (from posthog->farm-haystack) (1.16.0)\n",
      "Requirement already satisfied: monotonic>=1.5 in c:\\users\\henri\\appdata\\local\\programs\\python\\python312\\lib\\site-packages (from posthog->farm-haystack) (1.6)\n",
      "Requirement already satisfied: backoff>=1.10.0 in c:\\users\\henri\\appdata\\local\\programs\\python\\python312\\lib\\site-packages (from posthog->farm-haystack) (2.2.1)\n",
      "Requirement already satisfied: inflect in c:\\users\\henri\\appdata\\local\\programs\\python\\python312\\lib\\site-packages (from quantulum3->farm-haystack) (7.2.1)\n",
      "Requirement already satisfied: num2words in c:\\users\\henri\\appdata\\local\\programs\\python\\python312\\lib\\site-packages (from quantulum3->farm-haystack) (0.5.13)\n",
      "Requirement already satisfied: fsspec>=2023.5.0 in c:\\users\\henri\\appdata\\local\\programs\\python\\python312\\lib\\site-packages (from huggingface-hub<1.0,>=0.19.3->transformers==4.39.3->farm-haystack) (2024.5.0)\n",
      "Requirement already satisfied: typeguard>=4.0.1 in c:\\users\\henri\\appdata\\local\\programs\\python\\python312\\lib\\site-packages (from inflect->quantulum3->farm-haystack) (4.3.0)\n",
      "Requirement already satisfied: docopt>=0.6.2 in c:\\users\\henri\\appdata\\local\\programs\\python\\python312\\lib\\site-packages (from num2words->quantulum3->farm-haystack) (0.6.2)\n",
      "Note: you may need to restart the kernel to use updated packages.\n"
     ]
    }
   ],
   "source": [
    "%pip install farm-haystack"
   ]
  },
  {
   "cell_type": "code",
   "execution_count": 2,
   "metadata": {},
   "outputs": [
    {
     "name": "stdout",
     "output_type": "stream",
     "text": [
      "Looking in indexes: https://pypi.org/simple, https://pypi.ngc.nvidia.com\n",
      "Requirement already satisfied: farm-haystack[inference] in c:\\users\\henri\\appdata\\local\\programs\\python\\python312\\lib\\site-packages (1.25.5)\n",
      "Requirement already satisfied: boilerpy3 in c:\\users\\henri\\appdata\\local\\programs\\python\\python312\\lib\\site-packages (from farm-haystack[inference]) (1.0.7)\n",
      "Requirement already satisfied: events in c:\\users\\henri\\appdata\\local\\programs\\python\\python312\\lib\\site-packages (from farm-haystack[inference]) (0.5)\n",
      "Requirement already satisfied: httpx in c:\\users\\henri\\appdata\\local\\programs\\python\\python312\\lib\\site-packages (from farm-haystack[inference]) (0.27.0)\n",
      "Requirement already satisfied: jsonschema in c:\\users\\henri\\appdata\\local\\programs\\python\\python312\\lib\\site-packages (from farm-haystack[inference]) (4.22.0)\n",
      "Requirement already satisfied: lazy-imports==0.3.1 in c:\\users\\henri\\appdata\\local\\programs\\python\\python312\\lib\\site-packages (from farm-haystack[inference]) (0.3.1)\n",
      "Requirement already satisfied: more-itertools in c:\\users\\henri\\appdata\\local\\programs\\python\\python312\\lib\\site-packages (from farm-haystack[inference]) (10.2.0)\n",
      "Requirement already satisfied: networkx in c:\\users\\henri\\appdata\\local\\programs\\python\\python312\\lib\\site-packages (from farm-haystack[inference]) (3.3)\n",
      "Requirement already satisfied: pandas in c:\\users\\henri\\appdata\\local\\programs\\python\\python312\\lib\\site-packages (from farm-haystack[inference]) (2.2.2)\n",
      "Requirement already satisfied: pillow in c:\\users\\henri\\appdata\\local\\programs\\python\\python312\\lib\\site-packages (from farm-haystack[inference]) (10.3.0)\n",
      "Requirement already satisfied: platformdirs in c:\\users\\henri\\appdata\\local\\programs\\python\\python312\\lib\\site-packages (from farm-haystack[inference]) (4.2.2)\n",
      "Requirement already satisfied: posthog in c:\\users\\henri\\appdata\\local\\programs\\python\\python312\\lib\\site-packages (from farm-haystack[inference]) (3.5.0)\n",
      "Requirement already satisfied: prompthub-py==4.0.0 in c:\\users\\henri\\appdata\\local\\programs\\python\\python312\\lib\\site-packages (from farm-haystack[inference]) (4.0.0)\n",
      "Requirement already satisfied: pydantic<2 in c:\\users\\henri\\appdata\\local\\programs\\python\\python312\\lib\\site-packages (from farm-haystack[inference]) (1.10.15)\n",
      "Requirement already satisfied: quantulum3 in c:\\users\\henri\\appdata\\local\\programs\\python\\python312\\lib\\site-packages (from farm-haystack[inference]) (0.9.1)\n",
      "Requirement already satisfied: rank-bm25 in c:\\users\\henri\\appdata\\local\\programs\\python\\python312\\lib\\site-packages (from farm-haystack[inference]) (0.2.2)\n",
      "Requirement already satisfied: requests in c:\\users\\henri\\appdata\\local\\programs\\python\\python312\\lib\\site-packages (from farm-haystack[inference]) (2.32.3)\n",
      "Requirement already satisfied: requests-cache<1.0.0 in c:\\users\\henri\\appdata\\local\\programs\\python\\python312\\lib\\site-packages (from farm-haystack[inference]) (0.9.8)\n",
      "Requirement already satisfied: scikit-learn>=1.3.0 in c:\\users\\henri\\appdata\\local\\programs\\python\\python312\\lib\\site-packages (from farm-haystack[inference]) (1.5.0)\n",
      "Requirement already satisfied: sseclient-py in c:\\users\\henri\\appdata\\local\\programs\\python\\python312\\lib\\site-packages (from farm-haystack[inference]) (1.8.0)\n",
      "Requirement already satisfied: tenacity in c:\\users\\henri\\appdata\\local\\programs\\python\\python312\\lib\\site-packages (from farm-haystack[inference]) (8.3.0)\n",
      "Requirement already satisfied: tiktoken>=0.5.1 in c:\\users\\henri\\appdata\\local\\programs\\python\\python312\\lib\\site-packages (from farm-haystack[inference]) (0.7.0)\n",
      "Requirement already satisfied: tqdm in c:\\users\\henri\\appdata\\local\\programs\\python\\python312\\lib\\site-packages (from farm-haystack[inference]) (4.66.4)\n",
      "Requirement already satisfied: transformers==4.39.3 in c:\\users\\henri\\appdata\\local\\programs\\python\\python312\\lib\\site-packages (from farm-haystack[inference]) (4.39.3)\n",
      "Requirement already satisfied: huggingface-hub>=0.5.0 in c:\\users\\henri\\appdata\\local\\programs\\python\\python312\\lib\\site-packages (from farm-haystack[inference]) (0.23.2)\n",
      "Requirement already satisfied: sentence-transformers>=2.2.0 in c:\\users\\henri\\appdata\\local\\programs\\python\\python312\\lib\\site-packages (from farm-haystack[inference]) (3.0.0)\n",
      "Requirement already satisfied: pyyaml<7.0,>=6.0 in c:\\users\\henri\\appdata\\local\\programs\\python\\python312\\lib\\site-packages (from prompthub-py==4.0.0->farm-haystack[inference]) (6.0.1)\n",
      "Requirement already satisfied: filelock in c:\\users\\henri\\appdata\\local\\programs\\python\\python312\\lib\\site-packages (from transformers==4.39.3->farm-haystack[inference]) (3.14.0)\n",
      "Requirement already satisfied: numpy>=1.17 in c:\\users\\henri\\appdata\\local\\programs\\python\\python312\\lib\\site-packages (from transformers==4.39.3->farm-haystack[inference]) (1.26.4)\n",
      "Requirement already satisfied: packaging>=20.0 in c:\\users\\henri\\appdata\\local\\programs\\python\\python312\\lib\\site-packages (from transformers==4.39.3->farm-haystack[inference]) (24.0)\n",
      "Requirement already satisfied: regex!=2019.12.17 in c:\\users\\henri\\appdata\\local\\programs\\python\\python312\\lib\\site-packages (from transformers==4.39.3->farm-haystack[inference]) (2024.5.15)\n",
      "Requirement already satisfied: tokenizers<0.19,>=0.14 in c:\\users\\henri\\appdata\\local\\programs\\python\\python312\\lib\\site-packages (from transformers==4.39.3->farm-haystack[inference]) (0.15.2)\n",
      "Requirement already satisfied: safetensors>=0.4.1 in c:\\users\\henri\\appdata\\local\\programs\\python\\python312\\lib\\site-packages (from transformers==4.39.3->farm-haystack[inference]) (0.4.3)\n",
      "Requirement already satisfied: sentencepiece!=0.1.92,>=0.1.91 in c:\\users\\henri\\appdata\\local\\programs\\python\\python312\\lib\\site-packages (from transformers[sentencepiece,torch]==4.39.3; extra == \"inference\"->farm-haystack[inference]) (0.2.0)\n",
      "Requirement already satisfied: protobuf in c:\\users\\henri\\appdata\\local\\programs\\python\\python312\\lib\\site-packages (from transformers[sentencepiece,torch]==4.39.3; extra == \"inference\"->farm-haystack[inference]) (5.27.0)\n",
      "Requirement already satisfied: torch in c:\\users\\henri\\appdata\\local\\programs\\python\\python312\\lib\\site-packages (from transformers[sentencepiece,torch]==4.39.3; extra == \"inference\"->farm-haystack[inference]) (2.3.0)\n",
      "Requirement already satisfied: accelerate>=0.21.0 in c:\\users\\henri\\appdata\\local\\programs\\python\\python312\\lib\\site-packages (from transformers[sentencepiece,torch]==4.39.3; extra == \"inference\"->farm-haystack[inference]) (0.30.1)\n",
      "Requirement already satisfied: fsspec>=2023.5.0 in c:\\users\\henri\\appdata\\local\\programs\\python\\python312\\lib\\site-packages (from huggingface-hub>=0.5.0->farm-haystack[inference]) (2024.5.0)\n",
      "Requirement already satisfied: typing-extensions>=3.7.4.3 in c:\\users\\henri\\appdata\\local\\programs\\python\\python312\\lib\\site-packages (from huggingface-hub>=0.5.0->farm-haystack[inference]) (4.12.1)\n",
      "Requirement already satisfied: charset-normalizer<4,>=2 in c:\\users\\henri\\appdata\\local\\programs\\python\\python312\\lib\\site-packages (from requests->farm-haystack[inference]) (3.3.2)\n",
      "Requirement already satisfied: idna<4,>=2.5 in c:\\users\\henri\\appdata\\local\\programs\\python\\python312\\lib\\site-packages (from requests->farm-haystack[inference]) (3.7)\n",
      "Requirement already satisfied: urllib3<3,>=1.21.1 in c:\\users\\henri\\appdata\\local\\programs\\python\\python312\\lib\\site-packages (from requests->farm-haystack[inference]) (2.2.1)\n",
      "Requirement already satisfied: certifi>=2017.4.17 in c:\\users\\henri\\appdata\\local\\programs\\python\\python312\\lib\\site-packages (from requests->farm-haystack[inference]) (2024.6.2)\n",
      "Requirement already satisfied: appdirs>=1.4.4 in c:\\users\\henri\\appdata\\local\\programs\\python\\python312\\lib\\site-packages (from requests-cache<1.0.0->farm-haystack[inference]) (1.4.4)\n",
      "Requirement already satisfied: attrs>=21.2 in c:\\users\\henri\\appdata\\local\\programs\\python\\python312\\lib\\site-packages (from requests-cache<1.0.0->farm-haystack[inference]) (23.2.0)\n",
      "Requirement already satisfied: cattrs>=22.2 in c:\\users\\henri\\appdata\\local\\programs\\python\\python312\\lib\\site-packages (from requests-cache<1.0.0->farm-haystack[inference]) (23.2.3)\n",
      "Requirement already satisfied: url-normalize>=1.4 in c:\\users\\henri\\appdata\\local\\programs\\python\\python312\\lib\\site-packages (from requests-cache<1.0.0->farm-haystack[inference]) (1.4.3)\n",
      "Requirement already satisfied: scipy>=1.6.0 in c:\\users\\henri\\appdata\\local\\programs\\python\\python312\\lib\\site-packages (from scikit-learn>=1.3.0->farm-haystack[inference]) (1.13.1)\n",
      "Requirement already satisfied: joblib>=1.2.0 in c:\\users\\henri\\appdata\\local\\programs\\python\\python312\\lib\\site-packages (from scikit-learn>=1.3.0->farm-haystack[inference]) (1.4.2)\n",
      "Requirement already satisfied: threadpoolctl>=3.1.0 in c:\\users\\henri\\appdata\\local\\programs\\python\\python312\\lib\\site-packages (from scikit-learn>=1.3.0->farm-haystack[inference]) (3.5.0)\n",
      "Requirement already satisfied: colorama in c:\\users\\henri\\appdata\\local\\programs\\python\\python312\\lib\\site-packages (from tqdm->farm-haystack[inference]) (0.4.6)\n",
      "Requirement already satisfied: anyio in c:\\users\\henri\\appdata\\local\\programs\\python\\python312\\lib\\site-packages (from httpx->farm-haystack[inference]) (4.4.0)\n",
      "Requirement already satisfied: httpcore==1.* in c:\\users\\henri\\appdata\\local\\programs\\python\\python312\\lib\\site-packages (from httpx->farm-haystack[inference]) (1.0.5)\n",
      "Requirement already satisfied: sniffio in c:\\users\\henri\\appdata\\local\\programs\\python\\python312\\lib\\site-packages (from httpx->farm-haystack[inference]) (1.3.1)\n",
      "Requirement already satisfied: h11<0.15,>=0.13 in c:\\users\\henri\\appdata\\local\\programs\\python\\python312\\lib\\site-packages (from httpcore==1.*->httpx->farm-haystack[inference]) (0.14.0)\n",
      "Requirement already satisfied: jsonschema-specifications>=2023.03.6 in c:\\users\\henri\\appdata\\local\\programs\\python\\python312\\lib\\site-packages (from jsonschema->farm-haystack[inference]) (2023.12.1)\n",
      "Requirement already satisfied: referencing>=0.28.4 in c:\\users\\henri\\appdata\\local\\programs\\python\\python312\\lib\\site-packages (from jsonschema->farm-haystack[inference]) (0.35.1)\n",
      "Requirement already satisfied: rpds-py>=0.7.1 in c:\\users\\henri\\appdata\\local\\programs\\python\\python312\\lib\\site-packages (from jsonschema->farm-haystack[inference]) (0.18.1)\n",
      "Requirement already satisfied: python-dateutil>=2.8.2 in c:\\users\\henri\\appdata\\local\\programs\\python\\python312\\lib\\site-packages (from pandas->farm-haystack[inference]) (2.9.0.post0)\n",
      "Requirement already satisfied: pytz>=2020.1 in c:\\users\\henri\\appdata\\local\\programs\\python\\python312\\lib\\site-packages (from pandas->farm-haystack[inference]) (2024.1)\n",
      "Requirement already satisfied: tzdata>=2022.7 in c:\\users\\henri\\appdata\\local\\programs\\python\\python312\\lib\\site-packages (from pandas->farm-haystack[inference]) (2024.1)\n",
      "Requirement already satisfied: six>=1.5 in c:\\users\\henri\\appdata\\local\\programs\\python\\python312\\lib\\site-packages (from posthog->farm-haystack[inference]) (1.16.0)\n",
      "Requirement already satisfied: monotonic>=1.5 in c:\\users\\henri\\appdata\\local\\programs\\python\\python312\\lib\\site-packages (from posthog->farm-haystack[inference]) (1.6)\n",
      "Requirement already satisfied: backoff>=1.10.0 in c:\\users\\henri\\appdata\\local\\programs\\python\\python312\\lib\\site-packages (from posthog->farm-haystack[inference]) (2.2.1)\n",
      "Requirement already satisfied: inflect in c:\\users\\henri\\appdata\\local\\programs\\python\\python312\\lib\\site-packages (from quantulum3->farm-haystack[inference]) (7.2.1)\n",
      "Requirement already satisfied: num2words in c:\\users\\henri\\appdata\\local\\programs\\python\\python312\\lib\\site-packages (from quantulum3->farm-haystack[inference]) (0.5.13)\n",
      "Requirement already satisfied: psutil in c:\\users\\henri\\appdata\\local\\programs\\python\\python312\\lib\\site-packages (from accelerate>=0.21.0->transformers[sentencepiece,torch]==4.39.3; extra == \"inference\"->farm-haystack[inference]) (5.9.8)\n",
      "Requirement already satisfied: sympy in c:\\users\\henri\\appdata\\local\\programs\\python\\python312\\lib\\site-packages (from torch->transformers[sentencepiece,torch]==4.39.3; extra == \"inference\"->farm-haystack[inference]) (1.12.1)\n",
      "Requirement already satisfied: jinja2 in c:\\users\\henri\\appdata\\local\\programs\\python\\python312\\lib\\site-packages (from torch->transformers[sentencepiece,torch]==4.39.3; extra == \"inference\"->farm-haystack[inference]) (3.1.4)\n",
      "Requirement already satisfied: mkl<=2021.4.0,>=2021.1.1 in c:\\users\\henri\\appdata\\local\\programs\\python\\python312\\lib\\site-packages (from torch->transformers[sentencepiece,torch]==4.39.3; extra == \"inference\"->farm-haystack[inference]) (2021.4.0)\n",
      "Requirement already satisfied: typeguard>=4.0.1 in c:\\users\\henri\\appdata\\local\\programs\\python\\python312\\lib\\site-packages (from inflect->quantulum3->farm-haystack[inference]) (4.3.0)\n",
      "Requirement already satisfied: docopt>=0.6.2 in c:\\users\\henri\\appdata\\local\\programs\\python\\python312\\lib\\site-packages (from num2words->quantulum3->farm-haystack[inference]) (0.6.2)\n",
      "Requirement already satisfied: intel-openmp==2021.* in c:\\users\\henri\\appdata\\local\\programs\\python\\python312\\lib\\site-packages (from mkl<=2021.4.0,>=2021.1.1->torch->transformers[sentencepiece,torch]==4.39.3; extra == \"inference\"->farm-haystack[inference]) (2021.4.0)\n",
      "Requirement already satisfied: tbb==2021.* in c:\\users\\henri\\appdata\\local\\programs\\python\\python312\\lib\\site-packages (from mkl<=2021.4.0,>=2021.1.1->torch->transformers[sentencepiece,torch]==4.39.3; extra == \"inference\"->farm-haystack[inference]) (2021.12.0)\n",
      "Requirement already satisfied: MarkupSafe>=2.0 in c:\\users\\henri\\appdata\\local\\programs\\python\\python312\\lib\\site-packages (from jinja2->torch->transformers[sentencepiece,torch]==4.39.3; extra == \"inference\"->farm-haystack[inference]) (2.1.5)\n",
      "Requirement already satisfied: mpmath<1.4.0,>=1.1.0 in c:\\users\\henri\\appdata\\local\\programs\\python\\python312\\lib\\site-packages (from sympy->torch->transformers[sentencepiece,torch]==4.39.3; extra == \"inference\"->farm-haystack[inference]) (1.3.0)\n",
      "Note: you may need to restart the kernel to use updated packages.\n"
     ]
    }
   ],
   "source": [
    "%pip install farm-haystack[inference]"
   ]
  },
  {
   "attachments": {},
   "cell_type": "markdown",
   "metadata": {},
   "source": [
    "### Enabling Telemetry \n",
    "Knowing you're using this tutorial helps us decide where to invest our efforts to build a better product but you can always opt out by commenting the following line. See [Telemetry](https://docs.haystack.deepset.ai/docs/telemetry) for more details."
   ]
  },
  {
   "cell_type": "code",
   "execution_count": 3,
   "metadata": {},
   "outputs": [
    {
     "name": "stderr",
     "output_type": "stream",
     "text": [
      "c:\\Users\\henri\\AppData\\Local\\Programs\\Python\\Python312\\Lib\\site-packages\\tqdm\\auto.py:21: TqdmWarning: IProgress not found. Please update jupyter and ipywidgets. See https://ipywidgets.readthedocs.io/en/stable/user_install.html\n",
      "  from .autonotebook import tqdm as notebook_tqdm\n"
     ]
    }
   ],
   "source": [
    "from haystack.telemetry import tutorial_running\n",
    "\n",
    "tutorial_running(1)"
   ]
  },
  {
   "attachments": {},
   "cell_type": "markdown",
   "metadata": {},
   "source": [
    "Set the logging level to INFO:"
   ]
  },
  {
   "cell_type": "code",
   "execution_count": 4,
   "metadata": {},
   "outputs": [],
   "source": [
    "import logging\n",
    "\n",
    "logging.basicConfig(format=\"%(levelname)s - %(name)s -  %(message)s\", level=logging.WARNING)\n",
    "logging.getLogger(\"haystack\").setLevel(logging.INFO)"
   ]
  },
  {
   "attachments": {},
   "cell_type": "markdown",
   "metadata": {},
   "source": [
    "## Initializing the DocumentStore\n",
    "\n",
    "We'll start creating our question answering system by initializing a DocumentStore. A DocumentStore stores the Documents that the question answering system uses to find answers to your questions. In this tutorial, we're using the `InMemoryDocumentStore`, which is the simplest DocumentStore to get started with. It requires no external dependencies and it's a good option for smaller projects and debugging. But it doesn't scale up so well to larger Document collections, so it's not a good choice for production systems. To learn more about the DocumentStore and the different types of external databases that we support, see [DocumentStore](https://docs.haystack.deepset.ai/docs/document_store).\n",
    "\n",
    "Let's initialize the the DocumentStore:"
   ]
  },
  {
   "cell_type": "code",
   "execution_count": 5,
   "metadata": {},
   "outputs": [
    {
     "name": "stderr",
     "output_type": "stream",
     "text": [
      "INFO - haystack.modeling.utils -  Using devices: CPU - Number of GPUs: 0\n"
     ]
    }
   ],
   "source": [
    "from haystack.document_stores import InMemoryDocumentStore\n",
    "\n",
    "document_store = InMemoryDocumentStore(use_bm25=True)"
   ]
  },
  {
   "attachments": {},
   "cell_type": "markdown",
   "metadata": {},
   "source": [
    "The DocumentStore is now ready. Now it's time to fill it with some Documents."
   ]
  },
  {
   "attachments": {},
   "cell_type": "markdown",
   "metadata": {},
   "source": [
    "## Preparing Documents\n",
    "\n",
    "1. Download 517 articles from the Game of Thrones Wikipedia. You can find them in *data/build_your_first_question_answering_system* as a set of *.txt* files."
   ]
  },
  {
   "cell_type": "code",
   "execution_count": null,
   "metadata": {},
   "outputs": [],
   "source": [
    "from haystack.utils import fetch_archive_from_http\n",
    "\n",
    "doc_dir = \"data/build_your_first_question_answering_system\"\n",
    "\n",
    "fetch_archive_from_http(\n",
    "    url=\"https://s3.eu-central-1.amazonaws.com/deepset.ai-farm-qa/datasets/documents/wiki_gameofthrones_txt1.zip\",\n",
    "    output_dir=doc_dir,\n",
    ")"
   ]
  },
  {
   "attachments": {},
   "cell_type": "markdown",
   "metadata": {},
   "source": [
    "2. Use `TextIndexingPipeline` to convert the files you just downloaded into Haystack [Document objects](https://docs.haystack.deepset.ai/docs/documents_answers_labels#document) and write them into the DocumentStore:"
   ]
  },
  {
   "cell_type": "code",
   "execution_count": null,
   "metadata": {},
   "outputs": [],
   "source": [
    "import os\n",
    "from haystack.pipelines.standard_pipelines import TextIndexingPipeline\n",
    "\n",
    "files_to_index = [doc_dir + \"/\" + f for f in os.listdir(doc_dir)]\n",
    "indexing_pipeline = TextIndexingPipeline(document_store)\n",
    "indexing_pipeline.run_batch(file_paths=files_to_index)"
   ]
  },
  {
   "attachments": {},
   "cell_type": "markdown",
   "metadata": {},
   "source": [
    "The code in this tutorial uses the Game of Thrones data, but you can also supply your own *.txt* files and index them in the same way.\n",
    "\n",
    "As an alternative, you can cast your text data into [Document objects](https://docs.haystack.deepset.ai/docs/documents_answers_labels#document) and write them into the DocumentStore using `DocumentStore.write_documents()`."
   ]
  },
  {
   "attachments": {},
   "cell_type": "markdown",
   "metadata": {},
   "source": [
    "## Initializing the Retriever\n",
    "\n",
    "Our search system will use a Retriever, so we need to initialize it. A Retriever sifts through all the Documents and returns only the ones relevant to the question. This tutorial uses the BM25 algorithm. For more Retriever options, see [Retriever](https://docs.haystack.deepset.ai/docs/retriever).\n",
    "\n",
    "Let's initialize a BM25Retriever and make it use the InMemoryDocumentStore we initialized earlier in this tutorial:"
   ]
  },
  {
   "cell_type": "code",
   "execution_count": null,
   "metadata": {},
   "outputs": [],
   "source": [
    "from haystack.nodes import BM25Retriever\n",
    "\n",
    "retriever = BM25Retriever(document_store=document_store)"
   ]
  },
  {
   "attachments": {},
   "cell_type": "markdown",
   "metadata": {},
   "source": [
    "The Retriever is ready but we still need to initialize the Reader. "
   ]
  },
  {
   "attachments": {},
   "cell_type": "markdown",
   "metadata": {},
   "source": [
    "## Initializing the Reader\n",
    "\n",
    "A Reader scans the texts it received from the Retriever and extracts the top answer candidates. Readers are based on powerful deep learning models but are much slower than Retrievers at processing the same amount of text. In this tutorial, we're using a FARMReader with a base-sized RoBERTa question answering model called [`deepset/roberta-base-squad2`](https://huggingface.co/deepset/roberta-base-squad2). It's a strong all-round model that's good as a starting point. To find the best model for your use case, see [Models](https://haystack.deepset.ai/pipeline_nodes/reader#models).\n",
    "\n",
    "Let's initialize the Reader:"
   ]
  },
  {
   "cell_type": "code",
   "execution_count": null,
   "metadata": {},
   "outputs": [],
   "source": [
    "from haystack.nodes import FARMReader\n",
    "\n",
    "reader = FARMReader(model_name_or_path=\"deepset/roberta-base-squad2\", use_gpu=True)"
   ]
  },
  {
   "attachments": {},
   "cell_type": "markdown",
   "metadata": {},
   "source": [
    "We've initalized all the components for our pipeline. We're now ready to create the pipeline."
   ]
  },
  {
   "attachments": {},
   "cell_type": "markdown",
   "metadata": {},
   "source": [
    "## Creating the Retriever-Reader Pipeline\n",
    "\n",
    "In this tutorial, we're using a ready-made pipeline called `ExtractiveQAPipeline`. It connects the Reader and the Retriever. The combination of the two speeds up processing because the Reader only processes the Documents that the Retriever has passed on. To learn more about pipelines, see [Pipelines](https://docs.haystack.deepset.ai/docs/pipelines).\n",
    "\n",
    "To create the pipeline, run:"
   ]
  },
  {
   "cell_type": "code",
   "execution_count": null,
   "metadata": {},
   "outputs": [],
   "source": [
    "from haystack.pipelines import ExtractiveQAPipeline\n",
    "\n",
    "pipe = ExtractiveQAPipeline(reader, retriever)"
   ]
  },
  {
   "attachments": {},
   "cell_type": "markdown",
   "metadata": {},
   "source": [
    "The pipeline's ready, you can now go ahead and ask a question!"
   ]
  },
  {
   "attachments": {},
   "cell_type": "markdown",
   "metadata": {},
   "source": [
    "## Asking a Question\n",
    "\n",
    "1. Use the pipeline `run()` method to ask a question. The query argument is where you type your question. Additionally, you can set the number of documents you want the Reader and Retriever to return using the `top-k` parameter. To learn more about setting arguments, see [Arguments](https://docs.haystack.deepset.ai/docs/pipelines#arguments). To understand the importance of the `top-k` parameter, see [Choosing the Right top-k Values](https://docs.haystack.deepset.ai/docs/optimization#choosing-the-right-top-k-values)."
   ]
  },
  {
   "cell_type": "code",
   "execution_count": null,
   "metadata": {},
   "outputs": [],
   "source": [
    "prediction = pipe.run(\n",
    "    query=\"Who is the father of Arya Stark?\", params={\"Retriever\": {\"top_k\": 10}, \"Reader\": {\"top_k\": 5}}\n",
    ")"
   ]
  },
  {
   "attachments": {},
   "cell_type": "markdown",
   "metadata": {},
   "source": [
    "Here are some questions you could try out:\n",
    "- Who is the father of Arya Stark?\n",
    "- Who created the Dothraki vocabulary?\n",
    "- Who is the sister of Sansa?"
   ]
  },
  {
   "attachments": {},
   "cell_type": "markdown",
   "metadata": {},
   "source": [
    "2. Print out the answers the pipeline returned:"
   ]
  },
  {
   "cell_type": "code",
   "execution_count": null,
   "metadata": {},
   "outputs": [],
   "source": [
    "from pprint import pprint\n",
    "\n",
    "pprint(prediction)"
   ]
  },
  {
   "attachments": {},
   "cell_type": "markdown",
   "metadata": {},
   "source": [
    "3. Simplify the printed answers:"
   ]
  },
  {
   "cell_type": "code",
   "execution_count": null,
   "metadata": {},
   "outputs": [],
   "source": [
    "from haystack.utils import print_answers\n",
    "\n",
    "print_answers(prediction, details=\"minimum\")  ## Choose from `minimum`, `medium`, and `all`"
   ]
  },
  {
   "attachments": {},
   "cell_type": "markdown",
   "metadata": {},
   "source": [
    "And there you have it! Congratulations on building your first machine learning based question answering system!"
   ]
  },
  {
   "attachments": {},
   "cell_type": "markdown",
   "metadata": {
    "collapsed": false
   },
   "source": [
    "# Next Steps\n",
    "\n",
    "Check out [Build a Scalable Question Answering System](https://haystack.deepset.ai/tutorials/03_scalable_qa_system) to learn how to make a more advanced question answering system that uses an Elasticsearch backed DocumentStore and makes more use of the flexibility that pipelines offer."
   ]
  }
 ],
 "metadata": {
  "kernelspec": {
   "display_name": "Python 3.8.12 ('haystack_py38')",
   "language": "python",
   "name": "python3"
  },
  "language_info": {
   "codemirror_mode": {
    "name": "ipython",
    "version": 3
   },
   "file_extension": ".py",
   "mimetype": "text/x-python",
   "name": "python",
   "nbconvert_exporter": "python",
   "pygments_lexer": "ipython3",
   "version": "3.12.3"
  },
  "vscode": {
   "interpreter": {
    "hash": "85ea2c107d7945555de8e73270cf8a4d668bafec7aac344fa62e3415dc7bf5ec"
   }
  }
 },
 "nbformat": 4,
 "nbformat_minor": 2
}
